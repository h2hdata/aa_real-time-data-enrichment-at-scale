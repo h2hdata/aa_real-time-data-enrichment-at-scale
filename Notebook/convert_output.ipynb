{
 "cells": [
  {
   "cell_type": "markdown",
   "metadata": {},
   "source": [
    "### RESULTS "
   ]
  },
  {
   "cell_type": "code",
   "execution_count": 2,
   "metadata": {},
   "outputs": [
    {
     "name": "stdout",
     "output_type": "stream",
     "text": [
      "Empty DataFrame\n",
      "Columns: [UserID, State, Hobbies]\n",
      "Index: []\n"
     ]
    }
   ],
   "source": [
    "\n",
    "import os\n",
    "import ast\n",
    "import pandas as pd\n",
    "\n",
    "\"\"\"\n",
    " RESULTS\n",
    "---------\n",
    "\"\"\"\n",
    "\n",
    "df = pd.DataFrame(columns=['UserID','State','Hobbies'])\n",
    "\n",
    "for dir_,subdir,files in os.walk('../Output/Raw_output'):\n",
    "\tif files:\n",
    "\t\t# print files\n",
    "\t\tfor file_ in files:\n",
    "\t\t\tif 'part' in file_ and '.crc' not in file_:\n",
    "\t\t\t\twith open(dir_+'/'+file_) as f:\n",
    "\t\t\t\t\tdata = [ast.literal_eval(user.strip()) for user in f.readlines() if user.strip() != 'None']\n",
    "\t\t\t\t\tdf = df.append(pd.DataFrame(data,columns=['UserID','State','Hobbies']))\n",
    "df = df.reset_index(drop=True)\n",
    "df.to_csv('../Output/Output_tweets.csv',mode='a')\n",
    "try:\n",
    "    shutil.rmtree('../Output/Raw_output/', ignore_errors=False, onerror=None)\n",
    "except:\n",
    "    pass\n",
    "\n",
    "print df"
   ]
  },
  {
   "cell_type": "code",
   "execution_count": null,
   "metadata": {},
   "outputs": [],
   "source": []
  }
 ],
 "metadata": {
  "kernelspec": {
   "display_name": "Python 2",
   "language": "python",
   "name": "python2"
  },
  "language_info": {
   "codemirror_mode": {
    "name": "ipython",
    "version": 2
   },
   "file_extension": ".py",
   "mimetype": "text/x-python",
   "name": "python",
   "nbconvert_exporter": "python",
   "pygments_lexer": "ipython2",
   "version": "2.7.5"
  }
 },
 "nbformat": 4,
 "nbformat_minor": 2
}
